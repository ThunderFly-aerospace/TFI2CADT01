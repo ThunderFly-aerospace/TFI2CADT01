{
 "cells": [
  {
   "cell_type": "markdown",
   "id": "f355d8d7",
   "metadata": {},
   "source": [
    "# TFI2CADT test překladu adres\n",
    "\n",
    "Tento notebook slouží k ověření správného překladu I2C adresu u modulu TFI2CADT. \n",
    "\n",
    "Postup testu: \n",
    " * Připravit si MLAB USBI2C01A (nebo dostupné I2C rozhraní s podporou kernel SMBUS)\n",
    " * Zjistit číslo přiřazeného I2C portu (`i2cdetect -l`)\n",
    " * Číslo portu zadat do druhého bloku\n",
    " * Připojit k I2C sběrnici TFI2CADT a na jeho vstup (do passthrought portu) připojit nějaké I2C zařizení. Je důležité, aby toto I2C zařízení mělo jen jednu I2C adresu (vhodnými moduly jsou napřiklad TFRPM nebo TFHT, nikoliv TFSLOT resp. TFASPDIMU)\n",
    " * Spustit následující python blok a stisknout enter. \n",
    " * Python by měl detekovat I2C adresu připojeného zařizení. \n",
    " * Nyní přepojte I2C zařizení ze vstupu na jeden z překládacích výstupních portů. \n",
    " * Stiskněte enter, python by měl rozpoznat novou adresu. \n",
    " * I2C zařizení přepojte do druhého překládacího portu \n",
    " * Stiskněte enter. \n",
    " * Následně uvidíte vyhodnocení testu. Pokud se první I2C adresa změnila dle předpokladu (XOR 0x08 a XOR 0x78), test bude úspšný."
   ]
  },
  {
   "cell_type": "code",
   "execution_count": 13,
   "id": "1b0c1e91",
   "metadata": {},
   "outputs": [
    {
     "name": "stdout",
     "output_type": "stream",
     "text": [
      "Pripojte zarizeni do vstupniho konektoru a stisknete enter\n",
      "\n",
      "Adresa koncoveho I2C zarizeni je: 0x50\n",
      "Zapojte zarizeni do prekladaneho vystupu a stisknete enter\n",
      "\n",
      "Nova I2C adresa je: 0x28\n",
      "Zapojte zarizeni do druheho prekladaneho vystupu a stisknete enter\n",
      "\n",
      "Nova I2C adresa je: 0x58\n",
      "\n",
      "Preklad adres funguje dle ocekavani\n"
     ]
    }
   ],
   "source": [
    "from test_suite import run_test\n",
    "run_test(smbus_port = 7)"
   ]
  },
  {
   "cell_type": "code",
   "execution_count": null,
   "id": "f1f31c82",
   "metadata": {},
   "outputs": [],
   "source": []
  },
  {
   "cell_type": "code",
   "execution_count": null,
   "id": "c592c97f",
   "metadata": {},
   "outputs": [],
   "source": []
  }
 ],
 "metadata": {
  "kernelspec": {
   "display_name": "Python 3 (ipykernel)",
   "language": "python",
   "name": "python3"
  },
  "language_info": {
   "codemirror_mode": {
    "name": "ipython",
    "version": 3
   },
   "file_extension": ".py",
   "mimetype": "text/x-python",
   "name": "python",
   "nbconvert_exporter": "python",
   "pygments_lexer": "ipython3",
   "version": "3.10.6"
  }
 },
 "nbformat": 4,
 "nbformat_minor": 5
}
