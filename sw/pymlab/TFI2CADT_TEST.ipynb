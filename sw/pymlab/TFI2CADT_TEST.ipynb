{
 "cells": [
  {
   "cell_type": "markdown",
   "id": "f355d8d7",
   "metadata": {},
   "source": [
    "# TFI2CADT Adress Translation Test \n",
    "\n",
    "This notebook is used to verify the correct translation of the I2C address for the TFI2CADT module. \n",
    "\n",
    "Test Procedure: \n",
    " * Prepare MLAB USBI2C01A (or an available I2C interface with kernel SMBUS support). \n",
    " * Determine the assigned I2C port number (`i2cdetect -l`). \n",
    " * Enter the port number into the second block. \n",
    " * Connect the TFI2CADT to the I2C bus and connect I2C device to its input (to the passthrough port). It is important that this I2C device has only one I2C address (suitable modules include TFRPM or TFHT, not TFSLOT or TFASPDIMU). \n",
    " * Run the following python block and press enter. \n",
    " * Python should detect the I2C address of the connected device. \n",
    " * Now reconnect the I2C device from the input to one of the translating output ports. \n",
    " * Press enter, python should recognize the new address. \n",
    " * Reconnect the I2C device to the second translating port. \n",
    " * Press enter. \n",
    " * You will now see the test evaluation. If the first I2C address changed as expected (XOR 0x08 and XOR 0x78), the test will be successful."
   ]
  },
  {
   "cell_type": "code",
   "execution_count": 13,
   "id": "1b0c1e91",
   "metadata": {},
   "outputs": [
    {
     "name": "stdout",
     "output_type": "stream",
     "text": [
      "Connect the device to the input connector and press enter.\n",
      "\n",
      "The address of the end I2C device is: 0x50\n",
      "Connect the device to the translated output and press enter. \n",
      "\n",
      "The new I2C address is: 0x28\n",
      "Connect the device to the second translated output and press enter.\n",
      "\n",
      "The new I2C address is: 0x58\n",
      "\n",
      "Address translation works as expected\n"
     ]
    }
   ],
   "source": [
    "from test_suite import run_test\n",
    "run_test(smbus_port = 7)"
   ]
  },
  {
   "cell_type": "code",
   "execution_count": null,
   "id": "f1f31c82",
   "metadata": {},
   "outputs": [],
   "source": []
  },
  {
   "cell_type": "code",
   "execution_count": null,
   "id": "c592c97f",
   "metadata": {},
   "outputs": [],
   "source": []
  }
 ],
 "metadata": {
  "kernelspec": {
   "display_name": "Python 3 (ipykernel)",
   "language": "python",
   "name": "python3"
  },
  "language_info": {
   "codemirror_mode": {
    "name": "ipython",
    "version": 3
   },
   "file_extension": ".py",
   "mimetype": "text/x-python",
   "name": "python",
   "nbconvert_exporter": "python",
   "pygments_lexer": "ipython3",
   "version": "3.10.6"
  }
 },
 "nbformat": 4,
 "nbformat_minor": 5
}
